{
 "cells": [
  {
   "cell_type": "code",
   "execution_count": 1,
   "metadata": {},
   "outputs": [],
   "source": [
    "import os\n",
    "from transformers import BlipProcessor, BlipForQuestionAnswering\n",
    "import torch\n",
    "from PIL import Image\n",
    "from torch.utils.data import DataLoader, Dataset\n",
    "from tqdm import tqdm\n",
    "import json\n",
    "from torch.linalg import vector_norm\n",
    "from transformers import BertTokenizer, BertModel\n",
    "import IPython\n",
    "import matplotlib.pyplot as plt\n",
    "from torch.optim.lr_scheduler import StepLR"
   ]
  },
  {
   "cell_type": "code",
   "execution_count": 2,
   "metadata": {},
   "outputs": [
    {
     "name": "stderr",
     "output_type": "stream",
     "text": [
      "A parameter name that contains `beta` will be renamed internally to `bias`. Please use a different name to suppress this warning.\n",
      "A parameter name that contains `gamma` will be renamed internally to `weight`. Please use a different name to suppress this warning.\n",
      "A parameter name that contains `beta` will be renamed internally to `bias`. Please use a different name to suppress this warning.\n",
      "A parameter name that contains `gamma` will be renamed internally to `weight`. Please use a different name to suppress this warning.\n",
      "A parameter name that contains `beta` will be renamed internally to `bias`. Please use a different name to suppress this warning.\n",
      "A parameter name that contains `gamma` will be renamed internally to `weight`. Please use a different name to suppress this warning.\n",
      "A parameter name that contains `beta` will be renamed internally to `bias`. Please use a different name to suppress this warning.\n",
      "A parameter name that contains `gamma` will be renamed internally to `weight`. Please use a different name to suppress this warning.\n",
      "A parameter name that contains `beta` will be renamed internally to `bias`. Please use a different name to suppress this warning.\n",
      "A parameter name that contains `gamma` will be renamed internally to `weight`. Please use a different name to suppress this warning.\n",
      "A parameter name that contains `beta` will be renamed internally to `bias`. Please use a different name to suppress this warning.\n",
      "A parameter name that contains `gamma` will be renamed internally to `weight`. Please use a different name to suppress this warning.\n",
      "A parameter name that contains `beta` will be renamed internally to `bias`. Please use a different name to suppress this warning.\n",
      "A parameter name that contains `gamma` will be renamed internally to `weight`. Please use a different name to suppress this warning.\n",
      "A parameter name that contains `beta` will be renamed internally to `bias`. Please use a different name to suppress this warning.\n",
      "A parameter name that contains `gamma` will be renamed internally to `weight`. Please use a different name to suppress this warning.\n",
      "A parameter name that contains `beta` will be renamed internally to `bias`. Please use a different name to suppress this warning.\n",
      "A parameter name that contains `gamma` will be renamed internally to `weight`. Please use a different name to suppress this warning.\n",
      "A parameter name that contains `beta` will be renamed internally to `bias`. Please use a different name to suppress this warning.\n",
      "A parameter name that contains `gamma` will be renamed internally to `weight`. Please use a different name to suppress this warning.\n",
      "A parameter name that contains `beta` will be renamed internally to `bias`. Please use a different name to suppress this warning.\n",
      "A parameter name that contains `gamma` will be renamed internally to `weight`. Please use a different name to suppress this warning.\n",
      "A parameter name that contains `beta` will be renamed internally to `bias`. Please use a different name to suppress this warning.\n",
      "A parameter name that contains `gamma` will be renamed internally to `weight`. Please use a different name to suppress this warning.\n",
      "A parameter name that contains `beta` will be renamed internally to `bias`. Please use a different name to suppress this warning.\n",
      "A parameter name that contains `gamma` will be renamed internally to `weight`. Please use a different name to suppress this warning.\n",
      "A parameter name that contains `beta` will be renamed internally to `bias`. Please use a different name to suppress this warning.\n",
      "A parameter name that contains `gamma` will be renamed internally to `weight`. Please use a different name to suppress this warning.\n",
      "A parameter name that contains `beta` will be renamed internally to `bias`. Please use a different name to suppress this warning.\n",
      "A parameter name that contains `gamma` will be renamed internally to `weight`. Please use a different name to suppress this warning.\n",
      "A parameter name that contains `beta` will be renamed internally to `bias`. Please use a different name to suppress this warning.\n",
      "A parameter name that contains `gamma` will be renamed internally to `weight`. Please use a different name to suppress this warning.\n",
      "A parameter name that contains `beta` will be renamed internally to `bias`. Please use a different name to suppress this warning.\n",
      "A parameter name that contains `gamma` will be renamed internally to `weight`. Please use a different name to suppress this warning.\n",
      "A parameter name that contains `beta` will be renamed internally to `bias`. Please use a different name to suppress this warning.\n",
      "A parameter name that contains `gamma` will be renamed internally to `weight`. Please use a different name to suppress this warning.\n",
      "A parameter name that contains `beta` will be renamed internally to `bias`. Please use a different name to suppress this warning.\n",
      "A parameter name that contains `gamma` will be renamed internally to `weight`. Please use a different name to suppress this warning.\n",
      "A parameter name that contains `beta` will be renamed internally to `bias`. Please use a different name to suppress this warning.\n",
      "A parameter name that contains `gamma` will be renamed internally to `weight`. Please use a different name to suppress this warning.\n",
      "A parameter name that contains `beta` will be renamed internally to `bias`. Please use a different name to suppress this warning.\n",
      "A parameter name that contains `gamma` will be renamed internally to `weight`. Please use a different name to suppress this warning.\n",
      "A parameter name that contains `beta` will be renamed internally to `bias`. Please use a different name to suppress this warning.\n",
      "A parameter name that contains `gamma` will be renamed internally to `weight`. Please use a different name to suppress this warning.\n",
      "A parameter name that contains `beta` will be renamed internally to `bias`. Please use a different name to suppress this warning.\n",
      "A parameter name that contains `gamma` will be renamed internally to `weight`. Please use a different name to suppress this warning.\n",
      "A parameter name that contains `beta` will be renamed internally to `bias`. Please use a different name to suppress this warning.\n",
      "A parameter name that contains `gamma` will be renamed internally to `weight`. Please use a different name to suppress this warning.\n",
      "A parameter name that contains `beta` will be renamed internally to `bias`. Please use a different name to suppress this warning.\n",
      "A parameter name that contains `gamma` will be renamed internally to `weight`. Please use a different name to suppress this warning.\n",
      "A parameter name that contains `beta` will be renamed internally to `bias`. Please use a different name to suppress this warning.\n",
      "A parameter name that contains `gamma` will be renamed internally to `weight`. Please use a different name to suppress this warning.\n"
     ]
    }
   ],
   "source": [
    "tokenizer = BertTokenizer.from_pretrained('bert-base-uncased')\n",
    "bert = BertModel.from_pretrained('bert-base-uncased')"
   ]
  },
  {
   "cell_type": "code",
   "execution_count": 3,
   "metadata": {},
   "outputs": [],
   "source": [
    "def get_cosine_sim(sentences_pred, sentences_true):\n",
    "\n",
    "    def get_embedding(sentence):\n",
    "        encoding = tokenizer.batch_encode_plus(sentence, padding=True, truncation=True, return_tensors='pt', add_special_tokens=True)\n",
    "        input_ids = encoding['input_ids']\n",
    "        attention_mask = encoding['attention_mask']\n",
    "        with torch.no_grad():\n",
    "            outputs = bert(input_ids, attention_mask=attention_mask)\n",
    "            word_embeddings = outputs.last_hidden_state\n",
    "        return word_embeddings\n",
    "    \n",
    "    emb_pred = get_embedding(sentences_pred).squeeze().mean(dim=0)\n",
    "    emb_true = get_embedding(sentences_true).squeeze().mean(dim=0)\n",
    "    cosine_sim = torch.sum(emb_pred * emb_true) / (vector_norm(emb_pred) * vector_norm(emb_true))\n",
    "\n",
    "    return cosine_sim\n",
    "\n",
    "def validate(model, valid_dataloader):\n",
    "    model.eval()\n",
    "    mean_cosine = torch.empty(len(valid_dataloader.dataset))\n",
    "    with torch.no_grad():\n",
    "        for i, batch in enumerate(tqdm(valid_dataloader, desc='Validating')):\n",
    "            input_ids = batch['input_ids'].to(device)\n",
    "            pixel_values = batch['pixel_values'].to(device)\n",
    "            attention_masked = batch['attention_mask'].to(device)\n",
    "            generated_ids = model.generate(input_ids=input_ids, attention_mask=attention_masked, pixel_values=pixel_values, max_length=50)\n",
    "            generated_caption = processor.batch_decode(generated_ids, skip_special_tokens=True)\n",
    "            mean_cosine[i] = get_cosine_sim(generated_caption, batch['answer'])\n",
    "    return mean_cosine.mean()"
   ]
  },
  {
   "cell_type": "markdown",
   "metadata": {},
   "source": [
    "В качестве модели взял BLIP. В архитектуру входит image encoder, text encoder, image-grounded text encoder и image-grounded text decoder. Сначала вычисляются эмбеддинги картинки, затем в text encoder вычисляются эмбеддинги текста, далее сам текст и эти вычисленные эмбеддинги используются в cross-attention слое image-grounded text encoder. В image-grounded text decoder уже используются эмбеддинги всех трех предыдущих блоков в cross-attention."
   ]
  },
  {
   "cell_type": "markdown",
   "metadata": {},
   "source": [
    "Первые два энкодера обучаются с помощью image-text contrastive лосса, image-grounded text encoder обучается на image-text matching лосс. Декодер обучается с помощью language modeling лосса."
   ]
  },
  {
   "cell_type": "code",
   "execution_count": 4,
   "metadata": {},
   "outputs": [],
   "source": [
    "model = BlipForQuestionAnswering.from_pretrained(\"Salesforce/blip-vqa-base\")\n",
    "processor = BlipProcessor.from_pretrained(\"Salesforce/blip-vqa-base\")"
   ]
  },
  {
   "cell_type": "code",
   "execution_count": 5,
   "metadata": {},
   "outputs": [],
   "source": [
    "device = \"cuda\" if torch.cuda.is_available() else \"cpu\""
   ]
  },
  {
   "cell_type": "code",
   "execution_count": 6,
   "metadata": {},
   "outputs": [],
   "source": [
    "model.to(device);"
   ]
  },
  {
   "cell_type": "code",
   "execution_count": 7,
   "metadata": {},
   "outputs": [
    {
     "data": {
      "text/plain": [
       "<torch._C.Generator at 0x2167f44b7f0>"
      ]
     },
     "execution_count": 7,
     "metadata": {},
     "output_type": "execute_result"
    }
   ],
   "source": [
    "torch.cuda.empty_cache()"
   ]
  },
  {
   "cell_type": "markdown",
   "metadata": {},
   "source": [
    "Cсылка на датасет: https://huggingface.co/datasets/Peppertuna/ChartQADatasetV2"
   ]
  },
  {
   "cell_type": "markdown",
   "metadata": {},
   "source": [
    "Я выбрал этот датасет потому, что там есть ручная разметка от людей. В некоторых других я заметил, что данные могли быть размечены какой-то моделью (в основном GPT-4). Здесь такое тоже есть, но отдельно выделено. Так же он довольно большой. Так же модель училась не нем изначально."
   ]
  },
  {
   "cell_type": "code",
   "execution_count": 28,
   "metadata": {},
   "outputs": [],
   "source": [
    "class VQADataset(Dataset):\n",
    "\n",
    "    def __init__(self, processor, type_='train'):\n",
    "        self.type = type_\n",
    "        path2dataset = os.path.join(\"ChartQA Dataset\", type_)\n",
    "        self.base_path2pic = os.path.join(path2dataset, 'png')\n",
    "        with open(os.path.join(path2dataset, f\"{type_}_human.json\"), 'r') as file:\n",
    "            human = json.load(file)\n",
    "        self.annotations = human\n",
    "        self.processor = processor\n",
    "\n",
    "    def __len__(self):\n",
    "        return len(self.annotations)\n",
    "\n",
    "    def __getitem__(self, idx):\n",
    "        \n",
    "        question = self.annotations[idx]['query']\n",
    "        answer = self.annotations[idx]['label']\n",
    "        image_name = self.annotations[idx]['imgname']\n",
    "        image_path = os.path.join(self.base_path2pic, image_name)\n",
    "        image = Image.open(image_path)\n",
    "        \n",
    "        encoding = self.processor(image, question, padding=\"max_length\", truncation=True, return_tensors=\"pt\")\n",
    "        labels = self.processor.tokenizer.encode(\n",
    "            answer, max_length=8, return_tensors='pt', padding='max_length', truncation=True\n",
    "        )\n",
    "        encoding[\"labels\"] = labels\n",
    "    \n",
    "        # убираем размерность батча\n",
    "        for k, v in encoding.items():\n",
    "            encoding[k] = v.squeeze()\n",
    "\n",
    "        encoding[\"question\"] = question\n",
    "        encoding[\"answer\"] = answer\n",
    "        encoding[\"image name\"] = image_name\n",
    "        \n",
    "        return encoding"
   ]
  },
  {
   "cell_type": "code",
   "execution_count": 9,
   "metadata": {},
   "outputs": [],
   "source": [
    "train_dataset = VQADataset(processor=processor)\n",
    "valid_dataset = VQADataset(processor=processor, type_='val')"
   ]
  },
  {
   "cell_type": "code",
   "execution_count": 10,
   "metadata": {},
   "outputs": [],
   "source": [
    "train_dataloader = DataLoader(train_dataset, batch_size=8, shuffle=True, pin_memory=True)\n",
    "valid_dataloader = DataLoader(valid_dataset, batch_size=1, shuffle=False, pin_memory=True)"
   ]
  },
  {
   "cell_type": "markdown",
   "metadata": {},
   "source": [
    "В качестве метрики я взял среднее косинусное расстояние, тк, например, bleu не учитывал схожесть цифр - для пар (1, 999), (1, 2) он будет нулевым, хотя понятно, что 2 намного ближе к 1. У WUP-measure возникла проблема с цифрами - их могло не быть с словаре. Эмбеддинги брались у модели BERT"
   ]
  },
  {
   "cell_type": "code",
   "execution_count": 11,
   "metadata": {},
   "outputs": [
    {
     "name": "stderr",
     "output_type": "stream",
     "text": [
      "Validating: 100%|██████████| 960/960 [01:36<00:00,  9.90it/s]\n"
     ]
    },
    {
     "data": {
      "text/plain": [
       "0.6833809614181519"
      ]
     },
     "execution_count": 11,
     "metadata": {},
     "output_type": "execute_result"
    }
   ],
   "source": [
    "val_metric = validate(model, valid_dataloader).item()\n",
    "val_metric"
   ]
  },
  {
   "cell_type": "code",
   "execution_count": 12,
   "metadata": {},
   "outputs": [],
   "source": [
    "optimizer = torch.optim.AdamW(model.parameters(), lr=5e-5)\n",
    "scheduler = StepLR(optimizer, step_size=1, gamma=0.1)"
   ]
  },
  {
   "cell_type": "markdown",
   "metadata": {},
   "source": [
    "С mixed-precision обучение проходило быстрее"
   ]
  },
  {
   "cell_type": "code",
   "execution_count": 13,
   "metadata": {},
   "outputs": [],
   "source": [
    "num_epochs = 3\n",
    "scaler = torch.cuda.amp.GradScaler()"
   ]
  },
  {
   "cell_type": "code",
   "execution_count": 14,
   "metadata": {},
   "outputs": [
    {
     "data": {
      "image/png": "[encoded data removed]",
      "text/plain": [
       "<Figure size 640x480 with 1 Axes>"
      ]
     },
     "metadata": {},
     "output_type": "display_data"
    },
    {
     "name": "stderr",
     "output_type": "stream",
     "text": [
      "Training batch (last val metric - 0.6963902711868286): 100%|██████████| 925/925 [1:15:12<00:00,  4.88s/it]\n",
      "Validating: 100%|██████████| 960/960 [03:59<00:00,  4.01it/s]"
     ]
    },
    {
     "name": "stdout",
     "output_type": "stream",
     "text": [
      "Validation metric:  0.7115622758865356\n"
     ]
    },
    {
     "name": "stderr",
     "output_type": "stream",
     "text": [
      "\n"
     ]
    }
   ],
   "source": [
    "loss_hist = []\n",
    "for epoch in range(num_epochs):\n",
    "    epoch_loss = 0\n",
    "    model.train()\n",
    "    for idx, batch in enumerate(tqdm(train_dataloader, desc=f'Training batch (last val metric - {val_metric})')):\n",
    "        IPython.display.clear_output(wait=True)\n",
    "        input_ids = batch['input_ids'].to(device)\n",
    "        pixel_values = batch['pixel_values'].to(device)\n",
    "        attention_masked = batch['attention_mask'].to(device)\n",
    "        labels = batch['labels'].to(device)\n",
    "        optimizer.zero_grad()\n",
    "        \n",
    "        with torch.amp.autocast(device_type='cuda', dtype=torch.float16):\n",
    "            outputs = model(input_ids=input_ids,\n",
    "                        pixel_values=pixel_values,\n",
    "                        attention_mask=attention_masked,\n",
    "                        labels=labels)\n",
    "\n",
    "        loss = outputs.loss\n",
    "        epoch_loss += loss.item()\n",
    "        \n",
    "        scaler.scale(loss).backward()\n",
    "        scaler.step(optimizer)\n",
    "        scaler.update()\n",
    "        loss_hist.append(loss.item())\n",
    "        plt.ylabel('Loss')\n",
    "        plt.xlabel('iteration')\n",
    "        plt.plot(loss_hist)\n",
    "        plt.show()\n",
    "    scheduler.step()\n",
    "    val_metric = validate(model, valid_dataloader).item()\n",
    "    print(\"Validation metric: \", val_metric)"
   ]
  },
  {
   "cell_type": "markdown",
   "metadata": {},
   "source": [
    "Стало чуть лучше чем до дообучения"
   ]
  },
  {
   "cell_type": "code",
   "execution_count": 29,
   "metadata": {},
   "outputs": [],
   "source": [
    "test_dataset = VQADataset(processor=processor, type_='test')"
   ]
  },
  {
   "cell_type": "code",
   "execution_count": 30,
   "metadata": {},
   "outputs": [],
   "source": [
    "test_dataloader = DataLoader(test_dataset, batch_size=8, shuffle=False, pin_memory=True)"
   ]
  },
  {
   "cell_type": "code",
   "execution_count": 31,
   "metadata": {},
   "outputs": [],
   "source": [
    "model.eval();"
   ]
  },
  {
   "cell_type": "code",
   "execution_count": 40,
   "metadata": {},
   "outputs": [
    {
     "name": "stderr",
     "output_type": "stream",
     "text": [
      "Testing: 100%|██████████| 157/157 [09:13<00:00,  3.52s/it]\n"
     ]
    }
   ],
   "source": [
    "answers = {\"image names\": [], \"questions\": [], \"answers\": []}\n",
    "with torch.no_grad():\n",
    "    for i, batch in enumerate(tqdm(test_dataloader, desc='Testing')):\n",
    "        input_ids = batch['input_ids'].to(device)\n",
    "        pixel_values = batch['pixel_values'].to(device)\n",
    "        attention_masked = batch['attention_mask'].to(device)\n",
    "        image_name = batch['image name']\n",
    "        generated_ids = model.generate(input_ids=input_ids, attention_mask=attention_masked, pixel_values=pixel_values, max_length=50)\n",
    "        generated_caption = processor.batch_decode(generated_ids, skip_special_tokens=True)\n",
    "        answers[\"image names\"].extend(image_name)\n",
    "        answers[\"answers\"].extend(generated_caption)\n",
    "        answers[\"questions\"].extend(batch['question'])"
   ]
  },
  {
   "cell_type": "code",
   "execution_count": 41,
   "metadata": {},
   "outputs": [],
   "source": [
    "import pandas as pd"
   ]
  },
  {
   "cell_type": "code",
   "execution_count": 42,
   "metadata": {},
   "outputs": [
    {
     "data": {
      "text/html": [
       "<div>\n",
       "<style scoped>\n",
       "    .dataframe tbody tr th:only-of-type {\n",
       "        vertical-align: middle;\n",
       "    }\n",
       "\n",
       "    .dataframe tbody tr th {\n",
       "        vertical-align: top;\n",
       "    }\n",
       "\n",
       "    .dataframe thead th {\n",
       "        text-align: right;\n",
       "    }\n",
       "</style>\n",
       "<table border=\"1\" class=\"dataframe\">\n",
       "  <thead>\n",
       "    <tr style=\"text-align: right;\">\n",
       "      <th></th>\n",
       "      <th>image names</th>\n",
       "      <th>questions</th>\n",
       "      <th>answers</th>\n",
       "    </tr>\n",
       "  </thead>\n",
       "  <tbody>\n",
       "    <tr>\n",
       "      <th>0</th>\n",
       "      <td>41699051005347.png</td>\n",
       "      <td>How many food item is shown in the bar graph?</td>\n",
       "      <td>4</td>\n",
       "    </tr>\n",
       "    <tr>\n",
       "      <th>1</th>\n",
       "      <td>41699051005347.png</td>\n",
       "      <td>What is the difference in value between Lamb a...</td>\n",
       "      <td>0. 4</td>\n",
       "    </tr>\n",
       "    <tr>\n",
       "      <th>2</th>\n",
       "      <td>41810321001157.png</td>\n",
       "      <td>How many bars are shown in the chart?</td>\n",
       "      <td>2</td>\n",
       "    </tr>\n",
       "    <tr>\n",
       "      <th>3</th>\n",
       "      <td>41810321001157.png</td>\n",
       "      <td>Is the sum value of Madagascar more then Fiji?</td>\n",
       "      <td>yes</td>\n",
       "    </tr>\n",
       "    <tr>\n",
       "      <th>4</th>\n",
       "      <td>8127.png</td>\n",
       "      <td>What's the value of the lowest bar?</td>\n",
       "      <td>0. 6</td>\n",
       "    </tr>\n",
       "    <tr>\n",
       "      <th>...</th>\n",
       "      <td>...</td>\n",
       "      <td>...</td>\n",
       "      <td>...</td>\n",
       "    </tr>\n",
       "    <tr>\n",
       "      <th>1245</th>\n",
       "      <td>multi_col_60916.png</td>\n",
       "      <td>What is the average of 2010 data?</td>\n",
       "      <td>0. 5</td>\n",
       "    </tr>\n",
       "    <tr>\n",
       "      <th>1246</th>\n",
       "      <td>multi_col_60688.png</td>\n",
       "      <td>Which catogory has the highest value in C1?</td>\n",
       "      <td>no</td>\n",
       "    </tr>\n",
       "    <tr>\n",
       "      <th>1247</th>\n",
       "      <td>multi_col_60688.png</td>\n",
       "      <td>What is the largest value of red bar?</td>\n",
       "      <td>0. 6</td>\n",
       "    </tr>\n",
       "    <tr>\n",
       "      <th>1248</th>\n",
       "      <td>multi_col_100695.png</td>\n",
       "      <td>Which year has lowest Share of individuals who...</td>\n",
       "      <td>2019</td>\n",
       "    </tr>\n",
       "    <tr>\n",
       "      <th>1249</th>\n",
       "      <td>multi_col_100695.png</td>\n",
       "      <td>What is the average  Share of individuals who ...</td>\n",
       "      <td>0. 5</td>\n",
       "    </tr>\n",
       "  </tbody>\n",
       "</table>\n",
       "<p>1250 rows × 3 columns</p>\n",
       "</div>"
      ],
      "text/plain": [
       "               image names                                          questions  \\\n",
       "0       41699051005347.png      How many food item is shown in the bar graph?   \n",
       "1       41699051005347.png  What is the difference in value between Lamb a...   \n",
       "2       41810321001157.png              How many bars are shown in the chart?   \n",
       "3       41810321001157.png     Is the sum value of Madagascar more then Fiji?   \n",
       "4                 8127.png                What's the value of the lowest bar?   \n",
       "...                    ...                                                ...   \n",
       "1245   multi_col_60916.png                  What is the average of 2010 data?   \n",
       "1246   multi_col_60688.png        Which catogory has the highest value in C1?   \n",
       "1247   multi_col_60688.png              What is the largest value of red bar?   \n",
       "1248  multi_col_100695.png  Which year has lowest Share of individuals who...   \n",
       "1249  multi_col_100695.png  What is the average  Share of individuals who ...   \n",
       "\n",
       "     answers  \n",
       "0          4  \n",
       "1       0. 4  \n",
       "2          2  \n",
       "3        yes  \n",
       "4       0. 6  \n",
       "...      ...  \n",
       "1245    0. 5  \n",
       "1246      no  \n",
       "1247    0. 6  \n",
       "1248    2019  \n",
       "1249    0. 5  \n",
       "\n",
       "[1250 rows x 3 columns]"
      ]
     },
     "execution_count": 42,
     "metadata": {},
     "output_type": "execute_result"
    }
   ],
   "source": [
    "df = pd.DataFrame(answers)\n",
    "df"
   ]
  },
  {
   "cell_type": "code",
   "execution_count": 43,
   "metadata": {},
   "outputs": [],
   "source": [
    "df.to_csv('answers.csv', index=False)"
   ]
  }
 ],
 "metadata": {
  "kernelspec": {
   "display_name": "Python 3",
   "language": "python",
   "name": "python3"
  },
  "language_info": {
   "codemirror_mode": {
    "name": "ipython",
    "version": 3
   },
   "file_extension": ".py",
   "mimetype": "text/x-python",
   "name": "python",
   "nbconvert_exporter": "python",
   "pygments_lexer": "ipython3",
   "version": "3.10.11"
  }
 },
 "nbformat": 4,
 "nbformat_minor": 2
}
